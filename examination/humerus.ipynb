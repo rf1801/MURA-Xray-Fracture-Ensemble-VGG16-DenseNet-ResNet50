{
 "cells": [
  {
   "cell_type": "code",
   "execution_count": 30,
   "metadata": {
    "collapsed": true
   },
   "outputs": [],
   "source": [
    "import tensorflow as tf\n",
    "from keras.callbacks import EarlyStopping, ModelCheckpoint, ReduceLROnPlateau\n",
    "from keras import layers, models\n",
    "from keras.layers import concatenate, Dense, Conv2D, MaxPooling2D, Flatten, Activation, BatchNormalization, Dropout, \\\n",
    "    Attention\n",
    "from keras import *\n",
    "from keras.applications import MobileNet\n",
    "from keras.applications import VGG16\n",
    "from keras.applications.resnet import ResNet50\n",
    "from keras import backend as K\n",
    "from keras.layers import Layer\n",
    "import keras.layers as kl\n",
    "import pandas as pd\n",
    "from keras.applications import EfficientNetB0\n",
    "import keras.applications\n",
    "import numpy as np\n",
    "import os\n",
    "from sklearn.model_selection import train_test_split\n",
    "from sklearn.metrics import classification_report, cohen_kappa_score , ConfusionMatrixDisplay , confusion_matrix\n",
    "import matplotlib.pyplot as plt\n",
    "from sklearn.metrics import cohen_kappa_score\n",
    "import seaborn as sns\n",
    "import pickle\n",
    "import tensorflow_addons as tfa\n",
    "from sklearn import metrics\n",
    "from tensorflow.keras.applications.vgg16 import preprocess_input as vgg16_preprocess_input\n",
    "from tensorflow.keras.applications.resnet50 import preprocess_input as resnet50_preprocess_input\n",
    "from tensorflow.keras.applications.densenet import preprocess_input as densenet_preprocess_input\n",
    "from tensorflow.keras.models import load_model\n",
    "import os\n",
    "import glob\n",
    "from tensorflow.keras.preprocessing import image"
   ]
  },
  {
   "cell_type": "code",
   "execution_count": 23,
   "outputs": [],
   "source": [
    "class F1Score(tf.keras.metrics.Metric):\n",
    "\n",
    "    def __init__(self, name=\"f1_score\", **kwargs):\n",
    "        super().__init__(name=name, **kwargs)\n",
    "        self.f1 = self.add_weight(name=\"f1\", initializer=\"zeros\")\n",
    "        self.precision_fn = tf.keras.metrics.Precision()\n",
    "        self.recall_fn = tf.keras.metrics.Recall()\n",
    "\n",
    "    def update_state(self, y_true, y_pred, sample_weight=None):\n",
    "        p = self.precision_fn(y_true, y_pred)\n",
    "        r = self.recall_fn(y_true, y_pred)\n",
    "        self.f1.assign(2 * ((p * r) / (p + r + 1e-10)))\n",
    "\n",
    "    def result(self):\n",
    "        return self.f1\n",
    "\n",
    "    def reset_state(self):\n",
    "        # we also need to reset the state of the precision and recall objects\n",
    "        self.precision_fn.reset_state()\n",
    "        self.recall_fn.reset_state()\n",
    "        self.f1.assign(0)"
   ],
   "metadata": {
    "collapsed": false
   }
  },
  {
   "cell_type": "code",
   "execution_count": 24,
   "outputs": [],
   "source": [
    "class_mode = \"binary\"\n",
    "batch_size = 1\n",
    "target_categories = ['XR_ELBOW', 'XR_HUMERUS', 'XR_FOREARM', 'XR_HAND', 'XR_HUMERUS', 'XR_SHOULDER', 'XR_HUMERUS']\n",
    "target_category = 'XR_HUMERUS'"
   ],
   "metadata": {
    "collapsed": false
   }
  },
  {
   "cell_type": "code",
   "execution_count": 25,
   "outputs": [],
   "source": [
    "mura_location = \"C:/Users/raouf/Desktop/pfe/\"\n",
    "test_dir = \"C:/Users/raouf/Desktop/pfe/MURA-v1.1/valid_image_paths.csv\"\n",
    "def load_data(file, part):\n",
    "    train_data = pd.read_csv(file)\n",
    "    train_data = train_data.rename(columns={train_data.columns[0]: 'image_path'})\n",
    "    train_data['label'] = 2\n",
    "    string_to_add = mura_location\n",
    "    train_data['image_path'] = string_to_add + train_data['image_path'].astype(str)\n",
    "    for index, row in train_data.iterrows():\n",
    "        if 'positive' in str(row['image_path']).lower():\n",
    "            train_data.at[index, 'label'] = \"positive\"\n",
    "        else:\n",
    "            train_data.at[index, 'label'] = \"negative\"\n",
    "\n",
    "    if part == 0:\n",
    "        pass\n",
    "    else:\n",
    "        train_data = train_data[train_data['image_path'].str.contains(part)]\n",
    "    return train_data"
   ],
   "metadata": {
    "collapsed": false
   }
  },
  {
   "cell_type": "code",
   "execution_count": 26,
   "outputs": [
    {
     "name": "stderr",
     "output_type": "stream",
     "text": [
      "C:\\Users\\raouf\\AppData\\Local\\Temp\\ipykernel_91164\\850539721.py:11: FutureWarning: Setting an item of incompatible dtype is deprecated and will raise in a future error of pandas. Value 'positive' has dtype incompatible with int64, please explicitly cast to a compatible dtype first.\n",
      "  train_data.at[index, 'label'] = \"positive\"\n"
     ]
    },
    {
     "data": {
      "text/plain": "                                            image_path     label\n0    C:/Users/raouf/Desktop/pfe/MURA-v1.1/valid/XR_...  positive\n1    C:/Users/raouf/Desktop/pfe/MURA-v1.1/valid/XR_...  positive\n2    C:/Users/raouf/Desktop/pfe/MURA-v1.1/valid/XR_...  positive\n3    C:/Users/raouf/Desktop/pfe/MURA-v1.1/valid/XR_...  positive\n4    C:/Users/raouf/Desktop/pfe/MURA-v1.1/valid/XR_...  positive\n..                                                 ...       ...\n653  C:/Users/raouf/Desktop/pfe/MURA-v1.1/valid/XR_...  negative\n654  C:/Users/raouf/Desktop/pfe/MURA-v1.1/valid/XR_...  negative\n655  C:/Users/raouf/Desktop/pfe/MURA-v1.1/valid/XR_...  negative\n656  C:/Users/raouf/Desktop/pfe/MURA-v1.1/valid/XR_...  negative\n657  C:/Users/raouf/Desktop/pfe/MURA-v1.1/valid/XR_...  negative\n\n[658 rows x 2 columns]",
      "text/html": "<div>\n<style scoped>\n    .dataframe tbody tr th:only-of-type {\n        vertical-align: middle;\n    }\n\n    .dataframe tbody tr th {\n        vertical-align: top;\n    }\n\n    .dataframe thead th {\n        text-align: right;\n    }\n</style>\n<table border=\"1\" class=\"dataframe\">\n  <thead>\n    <tr style=\"text-align: right;\">\n      <th></th>\n      <th>image_path</th>\n      <th>label</th>\n    </tr>\n  </thead>\n  <tbody>\n    <tr>\n      <th>0</th>\n      <td>C:/Users/raouf/Desktop/pfe/MURA-v1.1/valid/XR_...</td>\n      <td>positive</td>\n    </tr>\n    <tr>\n      <th>1</th>\n      <td>C:/Users/raouf/Desktop/pfe/MURA-v1.1/valid/XR_...</td>\n      <td>positive</td>\n    </tr>\n    <tr>\n      <th>2</th>\n      <td>C:/Users/raouf/Desktop/pfe/MURA-v1.1/valid/XR_...</td>\n      <td>positive</td>\n    </tr>\n    <tr>\n      <th>3</th>\n      <td>C:/Users/raouf/Desktop/pfe/MURA-v1.1/valid/XR_...</td>\n      <td>positive</td>\n    </tr>\n    <tr>\n      <th>4</th>\n      <td>C:/Users/raouf/Desktop/pfe/MURA-v1.1/valid/XR_...</td>\n      <td>positive</td>\n    </tr>\n    <tr>\n      <th>...</th>\n      <td>...</td>\n      <td>...</td>\n    </tr>\n    <tr>\n      <th>653</th>\n      <td>C:/Users/raouf/Desktop/pfe/MURA-v1.1/valid/XR_...</td>\n      <td>negative</td>\n    </tr>\n    <tr>\n      <th>654</th>\n      <td>C:/Users/raouf/Desktop/pfe/MURA-v1.1/valid/XR_...</td>\n      <td>negative</td>\n    </tr>\n    <tr>\n      <th>655</th>\n      <td>C:/Users/raouf/Desktop/pfe/MURA-v1.1/valid/XR_...</td>\n      <td>negative</td>\n    </tr>\n    <tr>\n      <th>656</th>\n      <td>C:/Users/raouf/Desktop/pfe/MURA-v1.1/valid/XR_...</td>\n      <td>negative</td>\n    </tr>\n    <tr>\n      <th>657</th>\n      <td>C:/Users/raouf/Desktop/pfe/MURA-v1.1/valid/XR_...</td>\n      <td>negative</td>\n    </tr>\n  </tbody>\n</table>\n<p>658 rows × 2 columns</p>\n</div>"
     },
     "execution_count": 26,
     "metadata": {},
     "output_type": "execute_result"
    }
   ],
   "source": [
    "df_test = load_data(test_dir,target_category)\n",
    "df_test"
   ],
   "metadata": {
    "collapsed": false
   }
  },
  {
   "cell_type": "markdown",
   "source": [
    "VGG16"
   ],
   "metadata": {
    "collapsed": false
   }
  },
  {
   "cell_type": "code",
   "execution_count": 27,
   "outputs": [
    {
     "name": "stdout",
     "output_type": "stream",
     "text": [
      "Found 658 validated image filenames belonging to 2 classes.\n"
     ]
    }
   ],
   "source": [
    "model_path = \"C:/Users/raouf/Desktop/pfe/history/final/vgg/XR_HUMERUS/finetuned_VGG_XR_HUMERUS.keras\"\n",
    "model = load_model(model_path , custom_objects={'F1Score': F1Score})\n",
    "\n",
    "test_datagen = image.ImageDataGenerator(preprocessing_function=vgg16_preprocess_input)\n",
    "test_generator = test_datagen.flow_from_dataframe(df_test,\n",
    "                                                  directory=None,\n",
    "                                                  x_col='image_path',\n",
    "                                                  y_col='label',\n",
    "                                                  target_size=(224,224),\n",
    "                                                  batch_size=batch_size,\n",
    "                                                  class_mode=class_mode,\n",
    "                                                  shuffle=False\n",
    "                                                  )\n",
    "\n",
    "\n",
    "\n",
    "predictions = model.predict(test_generator)\n",
    "\n",
    "#predicted_classes = np.argmax(predictions, axis=1)\n",
    "predicted_classes = (predictions > 0.5).astype(int)\n",
    "\n",
    "\n",
    "true_classes = test_generator.classes\n",
    "\n",
    "class_labels = list(test_generator.class_indices.keys())\n",
    "\n",
    "report = classification_report(true_classes, predicted_classes, target_names=class_labels)\n",
    "\n",
    "print(report)\n",
    "\n",
    "\n",
    "\n",
    "\n",
    "cm = confusion_matrix(true_classes, predicted_classes)\n",
    "TN, FP, FN, TP = cm.ravel()\n",
    "conf_matrix = np.array([[TN, FP],\n",
    "                        [FN, TP]])\n",
    "\n",
    "labels = ['Negative','Positive']\n",
    "\n",
    "# Display the confusion matrix\n",
    "disp = ConfusionMatrixDisplay(confusion_matrix=conf_matrix, display_labels=labels)\n",
    "disp.plot(cmap='Blues')\n",
    "\n",
    "# Customize the plot\n",
    "plt.title('Confusion Matrix')\n",
    "plt.xlabel('Predicted Labels')\n",
    "plt.ylabel('True Labels')\n",
    "# Increase the font size of the numbers inside the matrix\n",
    "for texts in disp.text_.ravel():\n",
    "    texts.set_fontsize(16)\n",
    "plt.show()"
   ],
   "metadata": {
    "collapsed": false
   }
  },
  {
   "cell_type": "markdown",
   "source": [],
   "metadata": {
    "collapsed": false
   }
  },
  {
   "cell_type": "markdown",
   "source": [
    "DenseNet"
   ],
   "metadata": {
    "collapsed": false
   }
  },
  {
   "cell_type": "code",
   "execution_count": null,
   "outputs": [],
   "source": [
    "model_path = \"C:/Users/raouf/Desktop/pfe/history/final/densenet/XR_HUMERUS/finetuned_DenseNet_XR_HUMERUS.keras\"\n",
    "model = load_model(model_path , custom_objects={'F1Score': F1Score})\n",
    "\n",
    "test_datagen = image.ImageDataGenerator(preprocessing_function=densenet_preprocess_input)\n",
    "test_generator = test_datagen.flow_from_dataframe(df_test,\n",
    "                                                  directory=None,\n",
    "                                                  x_col='image_path',\n",
    "                                                  y_col='label',\n",
    "                                                  target_size=(224,224),\n",
    "                                                  batch_size=batch_size,\n",
    "                                                  class_mode=class_mode,\n",
    "                                                  shuffle=False\n",
    "                                                  )\n",
    "\n",
    "\n",
    "\n",
    "predictions = model.predict(test_generator)\n",
    "\n",
    "#predicted_classes = np.argmax(predictions, axis=1)\n",
    "predicted_classes = (predictions > 0.5).astype(int)\n",
    "\n",
    "\n",
    "true_classes = test_generator.classes\n",
    "\n",
    "class_labels = list(test_generator.class_indices.keys())\n",
    "\n",
    "report = classification_report(true_classes, predicted_classes, target_names=class_labels)\n",
    "\n",
    "print(report)\n",
    "\n",
    "\n",
    "\n",
    "\n",
    "cm = confusion_matrix(true_classes, predicted_classes)\n",
    "TN, FP, FN, TP = cm.ravel()\n",
    "conf_matrix = np.array([[TN, FP],\n",
    "                        [FN, TP]])\n",
    "\n",
    "labels = ['Negative','Positive']\n",
    "\n",
    "# Display the confusion matrix\n",
    "disp = ConfusionMatrixDisplay(confusion_matrix=conf_matrix, display_labels=labels)\n",
    "disp.plot(cmap='Blues')\n",
    "\n",
    "# Customize the plot\n",
    "plt.title('Confusion Matrix')\n",
    "plt.xlabel('Predicted Labels')\n",
    "plt.ylabel('True Labels')\n",
    "# Increase the font size of the numbers inside the matrix\n",
    "for texts in disp.text_.ravel():\n",
    "    texts.set_fontsize(16)\n",
    "plt.show()"
   ],
   "metadata": {
    "collapsed": false
   }
  },
  {
   "cell_type": "markdown",
   "source": [
    "ResNet"
   ],
   "metadata": {
    "collapsed": false
   }
  },
  {
   "cell_type": "code",
   "execution_count": 32,
   "outputs": [
    {
     "name": "stdout",
     "output_type": "stream",
     "text": [
      "Found 658 validated image filenames belonging to 2 classes.\n",
      "658/658 [==============================] - 7s 10ms/step\n",
      "              precision    recall  f1-score   support\n",
      "\n",
      "    negative       0.81      0.94      0.87       364\n",
      "    positive       0.91      0.73      0.81       294\n",
      "\n",
      "    accuracy                           0.84       658\n",
      "   macro avg       0.86      0.83      0.84       658\n",
      "weighted avg       0.85      0.84      0.84       658\n",
      "\n"
     ]
    },
    {
     "data": {
      "text/plain": "<Figure size 640x480 with 2 Axes>",
      "image/png": "[encoded data removed]"
     },
     "metadata": {},
     "output_type": "display_data"
    }
   ],
   "source": [
    "model_path = \"C:/Users/raouf/Desktop/pfe/history/final/resnet/XR_HUMERUS/finetuned_ResNet_XR_HUMERUS.keras\"\n",
    "model = load_model(model_path , custom_objects={'F1Score': F1Score})\n",
    "\n",
    "test_datagen = image.ImageDataGenerator(preprocessing_function=resnet50_preprocess_input)\n",
    "test_generator = test_datagen.flow_from_dataframe(df_test,\n",
    "                                                  directory=None,\n",
    "                                                  x_col='image_path',\n",
    "                                                  y_col='label',\n",
    "                                                  target_size=(224,224),\n",
    "                                                  batch_size=batch_size,\n",
    "                                                  class_mode=class_mode,\n",
    "                                                  shuffle=False\n",
    "                                                  )\n",
    "\n",
    "\n",
    "\n",
    "predictions = model.predict(test_generator)\n",
    "\n",
    "#predicted_classes = np.argmax(predictions, axis=1)\n",
    "predicted_classes = (predictions > 0.5).astype(int)\n",
    "\n",
    "\n",
    "true_classes = test_generator.classes\n",
    "\n",
    "class_labels = list(test_generator.class_indices.keys())\n",
    "\n",
    "report = classification_report(true_classes, predicted_classes, target_names=class_labels)\n",
    "\n",
    "print(report)\n",
    "\n",
    "\n",
    "\n",
    "\n",
    "cm = confusion_matrix(true_classes, predicted_classes)\n",
    "TN, FP, FN, TP = cm.ravel()\n",
    "conf_matrix = np.array([[TN, FP],\n",
    "                        [FN, TP]])\n",
    "\n",
    "labels = ['Negative','Positive']\n",
    "\n",
    "# Display the confusion matrix\n",
    "disp = ConfusionMatrixDisplay(confusion_matrix=conf_matrix, display_labels=labels)\n",
    "disp.plot(cmap='Blues')\n",
    "\n",
    "# Customize the plot\n",
    "plt.title('Confusion Matrix')\n",
    "plt.xlabel('Predicted Labels')\n",
    "plt.ylabel('True Labels')\n",
    "# Increase the font size of the numbers inside the matrix\n",
    "for texts in disp.text_.ravel():\n",
    "    texts.set_fontsize(16)\n",
    "plt.show()"
   ],
   "metadata": {
    "collapsed": false
   }
  },
  {
   "cell_type": "markdown",
   "source": [
    "DenseNet+Resnet"
   ],
   "metadata": {
    "collapsed": false
   }
  },
  {
   "cell_type": "code",
   "execution_count": null,
   "outputs": [],
   "source": [
    "model_path = \"C:/Users/raouf/Desktop/pfe/history/new_arch/dense_res/XR_HUMERUS/dense_res_XR_HUMERUS.keras\"\n",
    "model = load_model(model_path , custom_objects={'F1Score': F1Score})\n",
    "\n",
    "test_datagen = image.ImageDataGenerator()\n",
    "test_generator = test_datagen.flow_from_dataframe(df_test,\n",
    "                                                  directory=None,\n",
    "                                                  x_col='image_path',\n",
    "                                                  y_col='label',\n",
    "                                                  target_size=(224,224),\n",
    "                                                  batch_size=batch_size,\n",
    "                                                  class_mode=class_mode,\n",
    "                                                  shuffle=False\n",
    "                                                  )\n",
    "\n",
    "\n",
    "\n",
    "predictions = model.predict(test_generator)\n",
    "\n",
    "#predicted_classes = np.argmax(predictions, axis=1)\n",
    "predicted_classes = (predictions > 0.5).astype(int)\n",
    "\n",
    "\n",
    "true_classes = test_generator.classes\n",
    "\n",
    "class_labels = list(test_generator.class_indices.keys())\n",
    "\n",
    "report = classification_report(true_classes, predicted_classes, target_names=class_labels)\n",
    "\n",
    "print(report)\n",
    "\n",
    "\n",
    "\n",
    "\n",
    "cm = confusion_matrix(true_classes, predicted_classes)\n",
    "TN, FP, FN, TP = cm.ravel()\n",
    "conf_matrix = np.array([[TN, FP],\n",
    "                        [FN, TP]])\n",
    "\n",
    "labels = ['Negative','Positive']\n",
    "\n",
    "# Display the confusion matrix\n",
    "disp = ConfusionMatrixDisplay(confusion_matrix=conf_matrix, display_labels=labels)\n",
    "disp.plot(cmap='Blues')\n",
    "\n",
    "# Customize the plot\n",
    "plt.title('Confusion Matrix')\n",
    "plt.xlabel('Predicted Labels')\n",
    "plt.ylabel('True Labels')\n",
    "# Increase the font size of the numbers inside the matrix\n",
    "for texts in disp.text_.ravel():\n",
    "    texts.set_fontsize(16)\n",
    "plt.show()"
   ],
   "metadata": {
    "collapsed": false
   }
  },
  {
   "cell_type": "markdown",
   "source": [
    "DenseNet+VGG16"
   ],
   "metadata": {
    "collapsed": false
   }
  },
  {
   "cell_type": "code",
   "execution_count": null,
   "outputs": [],
   "source": [
    "model_path = \"C:/Users/raouf/Desktop/pfe/history/new_arch/dense_vgg/XR_HUMERUS/dense_vgg_XR_HUMERUS.keras\"\n",
    "model = load_model(model_path , custom_objects={'F1Score': F1Score})\n",
    "\n",
    "test_datagen = image.ImageDataGenerator()\n",
    "test_generator = test_datagen.flow_from_dataframe(df_test,\n",
    "                                                  directory=None,\n",
    "                                                  x_col='image_path',\n",
    "                                                  y_col='label',\n",
    "                                                  target_size=(224,224),\n",
    "                                                  batch_size=batch_size,\n",
    "                                                  class_mode=class_mode,\n",
    "                                                  shuffle=False\n",
    "                                                  )\n",
    "\n",
    "\n",
    "\n",
    "predictions = model.predict(test_generator)\n",
    "\n",
    "#predicted_classes = np.argmax(predictions, axis=1)\n",
    "predicted_classes = (predictions > 0.5).astype(int)\n",
    "\n",
    "\n",
    "true_classes = test_generator.classes\n",
    "\n",
    "class_labels = list(test_generator.class_indices.keys())\n",
    "\n",
    "report = classification_report(true_classes, predicted_classes, target_names=class_labels)\n",
    "\n",
    "print(report)\n",
    "\n",
    "\n",
    "\n",
    "\n",
    "cm = confusion_matrix(true_classes, predicted_classes)\n",
    "TN, FP, FN, TP = cm.ravel()\n",
    "conf_matrix = np.array([[TN, FP],\n",
    "                        [FN, TP]])\n",
    "\n",
    "labels = ['Negative','Positive']\n",
    "\n",
    "# Display the confusion matrix\n",
    "disp = ConfusionMatrixDisplay(confusion_matrix=conf_matrix, display_labels=labels)\n",
    "disp.plot(cmap='Blues')\n",
    "\n",
    "# Customize the plot\n",
    "plt.title('Confusion Matrix')\n",
    "plt.xlabel('Predicted Labels')\n",
    "plt.ylabel('True Labels')\n",
    "# Increase the font size of the numbers inside the matrix\n",
    "for texts in disp.text_.ravel():\n",
    "    texts.set_fontsize(16)\n",
    "plt.show()"
   ],
   "metadata": {
    "collapsed": false
   }
  },
  {
   "cell_type": "markdown",
   "source": [
    "ResNet+VGG16"
   ],
   "metadata": {
    "collapsed": false
   }
  },
  {
   "cell_type": "code",
   "execution_count": null,
   "outputs": [],
   "source": [
    "model_path = \"C:/Users/raouf/Desktop/pfe/history/new_arch/res_vgg/XR_HUMERUS/res_vgg_XR_HUMERUS.keras\"\n",
    "model = load_model(model_path , custom_objects={'F1Score': F1Score})\n",
    "\n",
    "test_datagen = image.ImageDataGenerator()\n",
    "test_generator = test_datagen.flow_from_dataframe(df_test,\n",
    "                                                  directory=None,\n",
    "                                                  x_col='image_path',\n",
    "                                                  y_col='label',\n",
    "                                                  target_size=(224,224),\n",
    "                                                  batch_size=batch_size,\n",
    "                                                  class_mode=class_mode,\n",
    "                                                  shuffle=False\n",
    "                                                  )\n",
    "\n",
    "\n",
    "\n",
    "predictions = model.predict(test_generator)\n",
    "\n",
    "#predicted_classes = np.argmax(predictions, axis=1)\n",
    "predicted_classes = (predictions > 0.5).astype(int)\n",
    "\n",
    "\n",
    "true_classes = test_generator.classes\n",
    "\n",
    "class_labels = list(test_generator.class_indices.keys())\n",
    "\n",
    "report = classification_report(true_classes, predicted_classes, target_names=class_labels)\n",
    "\n",
    "print(report)\n",
    "\n",
    "\n",
    "\n",
    "\n",
    "cm = confusion_matrix(true_classes, predicted_classes)\n",
    "TN, FP, FN, TP = cm.ravel()\n",
    "conf_matrix = np.array([[TN, FP],\n",
    "                        [FN, TP]])\n",
    "\n",
    "labels = ['Negative','Positive']\n",
    "\n",
    "# Display the confusion matrix\n",
    "disp = ConfusionMatrixDisplay(confusion_matrix=conf_matrix, display_labels=labels)\n",
    "disp.plot(cmap='Blues')\n",
    "\n",
    "# Customize the plot\n",
    "plt.title('Confusion Matrix')\n",
    "plt.xlabel('Predicted Labels')\n",
    "plt.ylabel('True Labels')\n",
    "# Increase the font size of the numbers inside the matrix\n",
    "for texts in disp.text_.ravel():\n",
    "    texts.set_fontsize(16)\n",
    "plt.show()"
   ],
   "metadata": {
    "collapsed": false
   }
  },
  {
   "cell_type": "markdown",
   "source": [
    "All Ensemble"
   ],
   "metadata": {
    "collapsed": false
   }
  },
  {
   "cell_type": "code",
   "execution_count": null,
   "outputs": [],
   "source": [
    "model_path = \"C:/Users/raouf/Desktop/pfe/history/new_arch/ensemble_all/XR_HUMERUS/ensemble_all_XR_HUMERUS.keras\"\n",
    "model = load_model(model_path , custom_objects={'F1Score': F1Score})\n",
    "\n",
    "test_datagen = image.ImageDataGenerator()\n",
    "test_generator = test_datagen.flow_from_dataframe(df_test,\n",
    "                                                  directory=None,\n",
    "                                                  x_col='image_path',\n",
    "                                                  y_col='label',\n",
    "                                                  target_size=(224,224),\n",
    "                                                  batch_size=batch_size,\n",
    "                                                  class_mode=class_mode,\n",
    "                                                  shuffle=False\n",
    "                                                  )\n",
    "\n",
    "\n",
    "\n",
    "predictions = model.predict(test_generator)\n",
    "\n",
    "#predicted_classes = np.argmax(predictions, axis=1)\n",
    "predicted_classes = (predictions > 0.5).astype(int)\n",
    "\n",
    "\n",
    "true_classes = test_generator.classes\n",
    "\n",
    "class_labels = list(test_generator.class_indices.keys())\n",
    "\n",
    "report = classification_report(true_classes, predicted_classes, target_names=class_labels)\n",
    "\n",
    "print(report)\n",
    "\n",
    "\n",
    "\n",
    "\n",
    "cm = confusion_matrix(true_classes, predicted_classes)\n",
    "TN, FP, FN, TP = cm.ravel()\n",
    "conf_matrix = np.array([[TN, FP],\n",
    "                        [FN, TP]])\n",
    "\n",
    "labels = ['Negative','Positive']\n",
    "\n",
    "# Display the confusion matrix\n",
    "disp = ConfusionMatrixDisplay(confusion_matrix=conf_matrix, display_labels=labels)\n",
    "disp.plot(cmap='Blues')\n",
    "\n",
    "# Customize the plot\n",
    "plt.title('Confusion Matrix')\n",
    "plt.xlabel('Predicted Labels')\n",
    "plt.ylabel('True Labels')\n",
    "# Increase the font size of the numbers inside the matrix\n",
    "for texts in disp.text_.ravel():\n",
    "    texts.set_fontsize(16)\n",
    "plt.show()"
   ],
   "metadata": {
    "collapsed": false
   }
  },
  {
   "cell_type": "markdown",
   "source": [
    "Average Voting"
   ],
   "metadata": {
    "collapsed": false
   }
  },
  {
   "cell_type": "code",
   "execution_count": null,
   "outputs": [],
   "source": [],
   "metadata": {
    "collapsed": false
   }
  }
 ],
 "metadata": {
  "kernelspec": {
   "display_name": "Python 3",
   "language": "python",
   "name": "python3"
  },
  "language_info": {
   "codemirror_mode": {
    "name": "ipython",
    "version": 2
   },
   "file_extension": ".py",
   "mimetype": "text/x-python",
   "name": "python",
   "nbconvert_exporter": "python",
   "pygments_lexer": "ipython2",
   "version": "2.7.6"
  }
 },
 "nbformat": 4,
 "nbformat_minor": 0
}
