{
 "cells": [
  {
   "cell_type": "code",
   "execution_count": 1,
   "metadata": {
    "collapsed": true
   },
   "outputs": [],
   "source": [
    "import os\n",
    "import glob\n",
    "import numpy as np\n",
    "import pandas as pd\n",
    "import matplotlib.pyplot as plt\n",
    "import tensorflow as tf\n",
    "from sklearn.metrics import classification_report, confusion_matrix, cohen_kappa_score\n",
    "from keras.models import load_model\n",
    "from tensorflow.keras.preprocessing import image\n",
    "from keras.preprocessing.image import ImageDataGenerator\n",
    "from keras.layers import Average\n",
    "import seaborn as sns\n"
   ]
  },
  {
   "cell_type": "code",
   "execution_count": 2,
   "outputs": [],
   "source": [
    "def load_data(file, part):\n",
    "    train_data = pd.read_csv(file)\n",
    "    train_data = train_data.rename(columns={train_data.columns[0]: 'image_path'})\n",
    "    train_data['label'] = 2\n",
    "    string_to_add = mura_location\n",
    "    train_data['image_path'] = string_to_add + train_data['image_path'].astype(str)\n",
    "    for index, row in train_data.iterrows():\n",
    "        if 'positive' in str(row['image_path']).lower():\n",
    "            train_data.at[index, 'label'] = \"positive\"\n",
    "        else:\n",
    "            train_data.at[index, 'label'] = \"negative\"\n",
    "\n",
    "    if part == 0:\n",
    "        pass\n",
    "    else:\n",
    "        train_data = train_data[train_data['image_path'].str.contains(part)]\n",
    "    return train_data\n",
    "\n",
    "class F1Score(tf.keras.metrics.Metric):\n",
    "    def __init__(self, name=\"f1_score\", **kwargs):\n",
    "        super().__init__(name=name, **kwargs)\n",
    "        self.f1 = self.add_weight(name=\"f1\", initializer=\"zeros\")\n",
    "        self.precision_fn = tf.keras.metrics.Precision()\n",
    "        self.recall_fn = tf.keras.metrics.Recall()\n",
    "\n",
    "    def update_state(self, y_true, y_pred, sample_weight=None):\n",
    "        p = self.precision_fn(y_true, y_pred)\n",
    "        r = self.recall_fn(y_true, y_pred)\n",
    "        self.f1.assign(2 * ((p * r) / (p + r + 1e-10)))\n",
    "\n",
    "    def result(self):\n",
    "        return self.f1\n",
    "\n",
    "    def reset_state(self):\n",
    "        self.precision_fn.reset_state()\n",
    "        self.recall_fn.reset_state()\n",
    "        self.f1.assign(0)"
   ],
   "metadata": {
    "collapsed": false
   }
  },
  {
   "cell_type": "code",
   "execution_count": 3,
   "outputs": [
    {
     "name": "stderr",
     "output_type": "stream",
     "text": [
      "C:\\Users\\raouf\\AppData\\Local\\Temp\\ipykernel_31312\\1734833246.py:9: FutureWarning: Setting an item of incompatible dtype is deprecated and will raise in a future error of pandas. Value 'positive' has dtype incompatible with int64, please explicitly cast to a compatible dtype first.\n",
      "  train_data.at[index, 'label'] = \"positive\"\n"
     ]
    }
   ],
   "source": [
    "\n",
    "# Parameters\n",
    "target_category = \"XR_HUMERUS\"\n",
    "class_mode = \"binary\"\n",
    "batch_size = 8\n",
    "mura_location = \"C:/Users/raouf/Desktop/pfe/\"\n",
    "test_dir = \"C:/Users/raouf/Desktop/pfe/MURA-v1.1/valid_image_paths.csv\"\n",
    "\n",
    "# Load test data\n",
    "df_test = load_data(test_dir, target_category)"
   ],
   "metadata": {
    "collapsed": false
   }
  },
  {
   "cell_type": "code",
   "execution_count": 4,
   "outputs": [
    {
     "ename": "TypeError",
     "evalue": "weight_decay is not a valid argument, kwargs should be empty  for `optimizer_experimental.Optimizer`.",
     "output_type": "error",
     "traceback": [
      "\u001B[1;31m---------------------------------------------------------------------------\u001B[0m",
      "\u001B[1;31mTypeError\u001B[0m                                 Traceback (most recent call last)",
      "Cell \u001B[1;32mIn[4], line 7\u001B[0m\n\u001B[0;32m      4\u001B[0m vgg_path \u001B[38;5;241m=\u001B[39m \u001B[38;5;124m\"\u001B[39m\u001B[38;5;124mC:/Users/raouf/Desktop/HUMERUS/Fine_tuning_vgg16_Dense256_sigmoid_XR_HUMERUS.keras\u001B[39m\u001B[38;5;124m\"\u001B[39m\n\u001B[0;32m      6\u001B[0m \u001B[38;5;66;03m# Ensure the models are loaded with custom objects\u001B[39;00m\n\u001B[1;32m----> 7\u001B[0m densenet_model \u001B[38;5;241m=\u001B[39m \u001B[43mload_model\u001B[49m\u001B[43m(\u001B[49m\u001B[43mdensenet_path\u001B[49m\u001B[43m,\u001B[49m\u001B[43m \u001B[49m\u001B[43mcustom_objects\u001B[49m\u001B[38;5;241;43m=\u001B[39;49m\u001B[43m{\u001B[49m\u001B[38;5;124;43m\"\u001B[39;49m\u001B[38;5;124;43mF1Score\u001B[39;49m\u001B[38;5;124;43m\"\u001B[39;49m\u001B[43m:\u001B[49m\u001B[43m \u001B[49m\u001B[43mF1Score\u001B[49m\u001B[43m}\u001B[49m\u001B[43m)\u001B[49m\n\u001B[0;32m      8\u001B[0m resnet_model \u001B[38;5;241m=\u001B[39m load_model(resnet_path, custom_objects\u001B[38;5;241m=\u001B[39m{\u001B[38;5;124m\"\u001B[39m\u001B[38;5;124mF1Score\u001B[39m\u001B[38;5;124m\"\u001B[39m: F1Score})\n\u001B[0;32m      9\u001B[0m vgg_model \u001B[38;5;241m=\u001B[39m load_model(vgg_path, custom_objects\u001B[38;5;241m=\u001B[39m{\u001B[38;5;124m\"\u001B[39m\u001B[38;5;124mF1Score\u001B[39m\u001B[38;5;124m\"\u001B[39m: F1Score})\n",
      "File \u001B[1;32mc:\\Users\\raouf\\miniconda3\\envs\\tensorflowgpu\\lib\\site-packages\\keras\\utils\\traceback_utils.py:70\u001B[0m, in \u001B[0;36mfilter_traceback.<locals>.error_handler\u001B[1;34m(*args, **kwargs)\u001B[0m\n\u001B[0;32m     67\u001B[0m     filtered_tb \u001B[38;5;241m=\u001B[39m _process_traceback_frames(e\u001B[38;5;241m.\u001B[39m__traceback__)\n\u001B[0;32m     68\u001B[0m     \u001B[38;5;66;03m# To get the full stack trace, call:\u001B[39;00m\n\u001B[0;32m     69\u001B[0m     \u001B[38;5;66;03m# `tf.debugging.disable_traceback_filtering()`\u001B[39;00m\n\u001B[1;32m---> 70\u001B[0m     \u001B[38;5;28;01mraise\u001B[39;00m e\u001B[38;5;241m.\u001B[39mwith_traceback(filtered_tb) \u001B[38;5;28;01mfrom\u001B[39;00m \u001B[38;5;28;01mNone\u001B[39;00m\n\u001B[0;32m     71\u001B[0m \u001B[38;5;28;01mfinally\u001B[39;00m:\n\u001B[0;32m     72\u001B[0m     \u001B[38;5;28;01mdel\u001B[39;00m filtered_tb\n",
      "File \u001B[1;32mc:\\Users\\raouf\\miniconda3\\envs\\tensorflowgpu\\lib\\site-packages\\keras\\optimizers\\optimizer_experimental\\optimizer.py:115\u001B[0m, in \u001B[0;36m_BaseOptimizer._process_kwargs\u001B[1;34m(self, kwargs)\u001B[0m\n\u001B[0;32m    109\u001B[0m     logging\u001B[38;5;241m.\u001B[39mwarning(\n\u001B[0;32m    110\u001B[0m         \u001B[38;5;124m\"\u001B[39m\u001B[38;5;132;01m%s\u001B[39;00m\u001B[38;5;124m is deprecated in `optimizer_experimental.Optimizer`\u001B[39m\u001B[38;5;124m\"\u001B[39m\n\u001B[0;32m    111\u001B[0m         \u001B[38;5;124m\"\u001B[39m\u001B[38;5;124m, please check the docstring for valid arguments.\u001B[39m\u001B[38;5;124m\"\u001B[39m,\n\u001B[0;32m    112\u001B[0m         k,\n\u001B[0;32m    113\u001B[0m     )\n\u001B[0;32m    114\u001B[0m \u001B[38;5;28;01melse\u001B[39;00m:\n\u001B[1;32m--> 115\u001B[0m     \u001B[38;5;28;01mraise\u001B[39;00m \u001B[38;5;167;01mTypeError\u001B[39;00m(\n\u001B[0;32m    116\u001B[0m         \u001B[38;5;124mf\u001B[39m\u001B[38;5;124m\"\u001B[39m\u001B[38;5;132;01m{\u001B[39;00mk\u001B[38;5;132;01m}\u001B[39;00m\u001B[38;5;124m is not a valid argument, kwargs should be empty \u001B[39m\u001B[38;5;124m\"\u001B[39m\n\u001B[0;32m    117\u001B[0m         \u001B[38;5;124m\"\u001B[39m\u001B[38;5;124m for `optimizer_experimental.Optimizer`.\u001B[39m\u001B[38;5;124m\"\u001B[39m\n\u001B[0;32m    118\u001B[0m     )\n",
      "\u001B[1;31mTypeError\u001B[0m: weight_decay is not a valid argument, kwargs should be empty  for `optimizer_experimental.Optimizer`."
     ]
    }
   ],
   "source": [
    "\n",
    "# Load models\n",
    "densenet_path = \"C:/Users/raouf/Desktop/HUMERUS/DenseNet50_NoInclude_top_FC_1024_512_sigmoid_XR_HUMERUS.keras\"\n",
    "resnet_path = \"C:/Users/raouf/Desktop/HUMERUS/humerus_ResNet50_and_Dense_sigmoid_XR_ELBOW.keras\"\n",
    "vgg_path = \"C:/Users/raouf/Desktop/HUMERUS/Fine_tuning_vgg16_Dense256_sigmoid_XR_HUMERUS.keras\"\n",
    "\n",
    "# Ensure the models are loaded with custom objects\n",
    "densenet_model = load_model(densenet_path, custom_objects={\"F1Score\": F1Score})\n",
    "resnet_model = load_model(resnet_path, custom_objects={\"F1Score\": F1Score})\n",
    "vgg_model = load_model(vgg_path, custom_objects={\"F1Score\": F1Score})"
   ],
   "metadata": {
    "collapsed": false
   }
  },
  {
   "cell_type": "code",
   "execution_count": null,
   "outputs": [],
   "source": [
    "\n",
    "# Create test data generator\n",
    "test_datagen = ImageDataGenerator(preprocessing_function=tf.keras.applications.densenet.preprocess_input)\n",
    "test_generator = test_datagen.flow_from_dataframe(df_test,\n",
    "                                                  directory=None,\n",
    "                                                  x_col='image_path',\n",
    "                                                  y_col='label',\n",
    "                                                  target_size=(224, 224),\n",
    "                                                  batch_size=batch_size,\n",
    "                                                  class_mode=class_mode,\n",
    "                                                  shuffle=False)\n",
    "\n",
    "# Evaluate and predict with each model\n",
    "densenet_results = densenet_model.evaluate(test_generator)\n",
    "densenet_predictions = densenet_model.predict(test_generator)"
   ],
   "metadata": {
    "collapsed": false
   }
  },
  {
   "cell_type": "code",
   "execution_count": null,
   "outputs": [],
   "source": [
    "\n",
    "test_datagen = ImageDataGenerator(preprocessing_function=tf.keras.applications.resnet.preprocess_input)\n",
    "test_generator = test_datagen.flow_from_dataframe(df_test,\n",
    "                                                  directory=None,\n",
    "                                                  x_col='image_path',\n",
    "                                                  y_col='label',\n",
    "                                                  target_size=(224, 224),\n",
    "                                                  batch_size=batch_size,\n",
    "                                                  class_mode=class_mode,\n",
    "                                                  shuffle=False)\n",
    "\n",
    "resnet_results = resnet_model.evaluate(test_generator)\n",
    "resnet_predictions = resnet_model.predict(test_generator)"
   ],
   "metadata": {
    "collapsed": false
   }
  },
  {
   "cell_type": "code",
   "execution_count": null,
   "outputs": [],
   "source": [
    "\n",
    "test_datagen = ImageDataGenerator(preprocessing_function=tf.keras.applications.vgg16.preprocess_input)\n",
    "test_generator = test_datagen.flow_from_dataframe(df_test,\n",
    "                                                  directory=None,\n",
    "                                                  x_col='image_path',\n",
    "                                                  y_col='label',\n",
    "                                                  target_size=(224, 224),\n",
    "                                                  batch_size=batch_size,\n",
    "                                                  class_mode=class_mode,\n",
    "                                                  shuffle=False)\n",
    "\n",
    "vgg_results = vgg_model.evaluate(test_generator)\n",
    "vgg_predictions = vgg_model.predict(test_generator)"
   ],
   "metadata": {
    "collapsed": false
   }
  },
  {
   "cell_type": "code",
   "execution_count": null,
   "outputs": [],
   "source": [
    "\n",
    "# Average predictions\n",
    "y_pred = np.array([densenet_predictions, resnet_predictions, vgg_predictions])\n",
    "y_pred_avg = np.mean(y_pred, axis=0)\n",
    "predicted_classes = (y_pred_avg > 0.5).astype(int)\n",
    "\n",
    "# Evaluation\n",
    "true_classes = test_generator.classes\n",
    "class_labels = list(test_generator.class_indices.keys())\n",
    "\n",
    "# Classification report\n",
    "report = classification_report(true_classes, predicted_classes, target_names=class_labels)\n",
    "print(report)\n",
    "\n",
    "# Cohen's kappa score\n",
    "kappa = cohen_kappa_score(true_classes, predicted_classes)\n",
    "print(\"kappa:\", kappa)\n",
    "\n",
    "# Confusion matrix\n",
    "conf_matrix = confusion_matrix(true_classes, predicted_classes)\n",
    "cm_display = metrics.ConfusionMatrixDisplay(confusion_matrix=conf_matrix, display_labels=class_labels)\n",
    "cm_display.plot()\n",
    "plt.ylabel('Actual')\n",
    "plt.xlabel('Predicted')\n",
    "plt.show()\n"
   ],
   "metadata": {
    "collapsed": false
   }
  }
 ],
 "metadata": {
  "kernelspec": {
   "display_name": "Python 3",
   "language": "python",
   "name": "python3"
  },
  "language_info": {
   "codemirror_mode": {
    "name": "ipython",
    "version": 2
   },
   "file_extension": ".py",
   "mimetype": "text/x-python",
   "name": "python",
   "nbconvert_exporter": "python",
   "pygments_lexer": "ipython2",
   "version": "2.7.6"
  }
 },
 "nbformat": 4,
 "nbformat_minor": 0
}
